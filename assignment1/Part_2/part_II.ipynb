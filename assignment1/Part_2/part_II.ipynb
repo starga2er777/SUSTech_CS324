{
 "cells": [
  {
   "cell_type": "markdown",
   "metadata": {},
   "source": [
    "# Deep Learning Assignment 1  \n",
    "\n",
    "SID: 12012524  \n",
    "Name: Zhangjie Chen\n",
    "\n",
    "## Part II"
   ]
  },
  {
   "cell_type": "markdown",
   "metadata": {},
   "source": [
    "### 2.1  Task 1\n",
    "\n",
    "Implement the MLP architecture by completing the files mlp numpy.py and modules.py."
   ]
  },
  {
   "cell_type": "code",
   "execution_count": 1,
   "metadata": {},
   "outputs": [],
   "source": [
    "# imports\n",
    "import sklearn.datasets\n",
    "import numpy as np\n",
    "import matplotlib.pyplot as plt\n",
    "import sklearn.preprocessing\n",
    "import mlp_numpy\n",
    "\n",
    "%matplotlib inline\n",
    "# Set the random seeds for reproducibility\n",
    "np.random.seed(0)"
   ]
  },
  {
   "cell_type": "code",
   "execution_count": 2,
   "metadata": {},
   "outputs": [
    {
     "data": {
      "image/png": "[encoded data removed]",
      "text/plain": [
       "<Figure size 640x480 with 1 Axes>"
      ]
     },
     "metadata": {},
     "output_type": "display_data"
    }
   ],
   "source": [
    "# generate moon dataset shuffled in a consistent manner \n",
    "x, y = sklearn.datasets.make_moons(n_samples=1000, random_state=42)\n",
    "\n",
    "# one-hot encoding on the labels\n",
    "encoder = sklearn.preprocessing.OneHotEncoder(sparse=False)\n",
    "y = encoder.fit_transform(y.reshape(-1, 1))\n",
    "\n",
    "# train test split\n",
    "x_train = x[:800]\n",
    "x_test = x[800:]\n",
    "\n",
    "y_train = y[:800]\n",
    "y_test = y[800:]\n",
    "\n",
    "plt.scatter(x[:,0], x[:,1])\n",
    "plt.show()"
   ]
  },
  {
   "cell_type": "markdown",
   "metadata": {},
   "source": [
    "### 2.2  Task 2\n",
    "\n",
    "Implement training and testing script in train mlp_numpy.py. (Please keep 80% of the dataset for training and the remaining 20% for testing. Note that this is a random split of 80% and 20% )"
   ]
  },
  {
   "cell_type": "code",
   "execution_count": 3,
   "metadata": {},
   "outputs": [],
   "source": [
    "# see train_mlp_numpy.py\n",
    "import train_mlp_numpy"
   ]
  },
  {
   "cell_type": "markdown",
   "metadata": {},
   "source": [
    "### 2.3  Task 3\n",
    "\n",
    "Using the default values of the parameters, report the results of your experiments using a jupyter notebook where you show the accuracy curves for both training and test data."
   ]
  },
  {
   "cell_type": "code",
   "execution_count": 4,
   "metadata": {},
   "outputs": [
    {
     "name": "stderr",
     "output_type": "stream",
     "text": [
      "/home/jeffery/Desktop/Sustech/DL/Assignment/assignment1/Part_2/modules.py:89: RuntimeWarning: invalid value encountered in true_divide\n",
      "  x = (y.T / y.sum(axis = 1)).T\n",
      "/home/jeffery/Desktop/Sustech/DL/Assignment/assignment1/Part_2/modules.py:119: RuntimeWarning: divide by zero encountered in log\n",
      "  out = -np.log(x[np.arange(x.shape[0]), y.argmax(1)]).mean()\n",
      "/home/jeffery/Desktop/Sustech/DL/Assignment/assignment1/Part_2/modules.py:130: RuntimeWarning: divide by zero encountered in true_divide\n",
      "  dx = -(y / x) / y.shape[0]\n",
      "/home/jeffery/Desktop/Sustech/DL/Assignment/assignment1/Part_2/modules.py:130: RuntimeWarning: invalid value encountered in true_divide\n",
      "  dx = -(y / x) / y.shape[0]\n"
     ]
    },
    {
     "name": "stdout",
     "output_type": "stream",
     "text": [
      "Step: 0, Loss: nan, Accuracy: 0.505\n",
      "Step: 10, Loss: nan, Accuracy: 0.505\n",
      "Step: 20, Loss: nan, Accuracy: 0.505\n",
      "Step: 30, Loss: nan, Accuracy: 0.505\n",
      "Step: 40, Loss: nan, Accuracy: 0.505\n",
      "Step: 50, Loss: nan, Accuracy: 0.505\n",
      "Step: 60, Loss: nan, Accuracy: 0.505\n",
      "Step: 70, Loss: nan, Accuracy: 0.505\n",
      "Step: 80, Loss: nan, Accuracy: 0.505\n",
      "Step: 90, Loss: nan, Accuracy: 0.505\n",
      "Step: 100, Loss: nan, Accuracy: 0.505\n",
      "Step: 110, Loss: nan, Accuracy: 0.505\n",
      "Step: 120, Loss: nan, Accuracy: 0.505\n",
      "Step: 130, Loss: nan, Accuracy: 0.505\n",
      "Step: 140, Loss: nan, Accuracy: 0.505\n",
      "Step: 150, Loss: nan, Accuracy: 0.505\n",
      "Step: 160, Loss: nan, Accuracy: 0.505\n",
      "Step: 170, Loss: nan, Accuracy: 0.505\n",
      "Step: 180, Loss: nan, Accuracy: 0.505\n",
      "Step: 190, Loss: nan, Accuracy: 0.505\n",
      "Step: 200, Loss: nan, Accuracy: 0.505\n",
      "Step: 210, Loss: nan, Accuracy: 0.505\n",
      "Step: 220, Loss: nan, Accuracy: 0.505\n",
      "Step: 230, Loss: nan, Accuracy: 0.505\n",
      "Step: 240, Loss: nan, Accuracy: 0.505\n",
      "Step: 250, Loss: nan, Accuracy: 0.505\n",
      "Step: 260, Loss: nan, Accuracy: 0.505\n",
      "Step: 270, Loss: nan, Accuracy: 0.505\n",
      "Step: 280, Loss: nan, Accuracy: 0.505\n",
      "Step: 290, Loss: nan, Accuracy: 0.505\n",
      "Step: 300, Loss: nan, Accuracy: 0.505\n",
      "Step: 310, Loss: nan, Accuracy: 0.505\n",
      "Step: 320, Loss: nan, Accuracy: 0.505\n",
      "Step: 330, Loss: nan, Accuracy: 0.505\n",
      "Step: 340, Loss: nan, Accuracy: 0.505\n",
      "Step: 350, Loss: nan, Accuracy: 0.505\n",
      "Step: 360, Loss: nan, Accuracy: 0.505\n",
      "Step: 370, Loss: nan, Accuracy: 0.505\n",
      "Step: 380, Loss: nan, Accuracy: 0.505\n",
      "Step: 390, Loss: nan, Accuracy: 0.505\n",
      "Step: 400, Loss: nan, Accuracy: 0.505\n",
      "Step: 410, Loss: nan, Accuracy: 0.505\n",
      "Step: 420, Loss: nan, Accuracy: 0.505\n",
      "Step: 430, Loss: nan, Accuracy: 0.505\n",
      "Step: 440, Loss: nan, Accuracy: 0.505\n",
      "Step: 450, Loss: nan, Accuracy: 0.505\n",
      "Step: 460, Loss: nan, Accuracy: 0.505\n",
      "Step: 470, Loss: nan, Accuracy: 0.505\n",
      "Step: 480, Loss: nan, Accuracy: 0.505\n",
      "Step: 490, Loss: nan, Accuracy: 0.505\n",
      "Step: 500, Loss: nan, Accuracy: 0.505\n",
      "Step: 510, Loss: nan, Accuracy: 0.505\n",
      "Step: 520, Loss: nan, Accuracy: 0.505\n",
      "Step: 530, Loss: nan, Accuracy: 0.505\n",
      "Step: 540, Loss: nan, Accuracy: 0.505\n",
      "Step: 550, Loss: nan, Accuracy: 0.505\n",
      "Step: 560, Loss: nan, Accuracy: 0.505\n",
      "Step: 570, Loss: nan, Accuracy: 0.505\n",
      "Step: 580, Loss: nan, Accuracy: 0.505\n",
      "Step: 590, Loss: nan, Accuracy: 0.505\n",
      "Step: 600, Loss: nan, Accuracy: 0.505\n",
      "Step: 610, Loss: nan, Accuracy: 0.505\n",
      "Step: 620, Loss: nan, Accuracy: 0.505\n",
      "Step: 630, Loss: nan, Accuracy: 0.505\n",
      "Step: 640, Loss: nan, Accuracy: 0.505\n",
      "Step: 650, Loss: nan, Accuracy: 0.505\n",
      "Step: 660, Loss: nan, Accuracy: 0.505\n",
      "Step: 670, Loss: nan, Accuracy: 0.505\n",
      "Step: 680, Loss: nan, Accuracy: 0.505\n",
      "Step: 690, Loss: nan, Accuracy: 0.505\n",
      "Step: 700, Loss: nan, Accuracy: 0.505\n",
      "Step: 710, Loss: nan, Accuracy: 0.505\n",
      "Step: 720, Loss: nan, Accuracy: 0.505\n",
      "Step: 730, Loss: nan, Accuracy: 0.505\n",
      "Step: 740, Loss: nan, Accuracy: 0.505\n",
      "Step: 750, Loss: nan, Accuracy: 0.505\n",
      "Step: 760, Loss: nan, Accuracy: 0.505\n",
      "Step: 770, Loss: nan, Accuracy: 0.505\n",
      "Step: 780, Loss: nan, Accuracy: 0.505\n",
      "Step: 790, Loss: nan, Accuracy: 0.505\n",
      "Step: 800, Loss: nan, Accuracy: 0.505\n",
      "Step: 810, Loss: nan, Accuracy: 0.505\n",
      "Step: 820, Loss: nan, Accuracy: 0.505\n",
      "Step: 830, Loss: nan, Accuracy: 0.505\n",
      "Step: 840, Loss: nan, Accuracy: 0.505\n",
      "Step: 850, Loss: nan, Accuracy: 0.505\n",
      "Step: 860, Loss: nan, Accuracy: 0.505\n",
      "Step: 870, Loss: nan, Accuracy: 0.505\n",
      "Step: 880, Loss: nan, Accuracy: 0.505\n",
      "Step: 890, Loss: nan, Accuracy: 0.505\n",
      "Step: 900, Loss: nan, Accuracy: 0.505\n",
      "Step: 910, Loss: nan, Accuracy: 0.505\n",
      "Step: 920, Loss: nan, Accuracy: 0.505\n",
      "Step: 930, Loss: nan, Accuracy: 0.505\n",
      "Step: 940, Loss: nan, Accuracy: 0.505\n",
      "Step: 950, Loss: nan, Accuracy: 0.505\n",
      "Step: 960, Loss: nan, Accuracy: 0.505\n",
      "Step: 970, Loss: nan, Accuracy: 0.505\n",
      "Step: 980, Loss: nan, Accuracy: 0.505\n",
      "Step: 990, Loss: nan, Accuracy: 0.505\n",
      "Step: 1000, Loss: nan, Accuracy: 0.505\n",
      "Step: 1010, Loss: nan, Accuracy: 0.505\n",
      "Step: 1020, Loss: nan, Accuracy: 0.505\n",
      "Step: 1030, Loss: nan, Accuracy: 0.505\n",
      "Step: 1040, Loss: nan, Accuracy: 0.505\n",
      "Step: 1050, Loss: nan, Accuracy: 0.505\n",
      "Step: 1060, Loss: nan, Accuracy: 0.505\n",
      "Step: 1070, Loss: nan, Accuracy: 0.505\n",
      "Step: 1080, Loss: nan, Accuracy: 0.505\n",
      "Step: 1090, Loss: nan, Accuracy: 0.505\n",
      "Step: 1100, Loss: nan, Accuracy: 0.505\n",
      "Step: 1110, Loss: nan, Accuracy: 0.505\n",
      "Step: 1120, Loss: nan, Accuracy: 0.505\n",
      "Step: 1130, Loss: nan, Accuracy: 0.505\n",
      "Step: 1140, Loss: nan, Accuracy: 0.505\n",
      "Step: 1150, Loss: nan, Accuracy: 0.505\n",
      "Step: 1160, Loss: nan, Accuracy: 0.505\n",
      "Step: 1170, Loss: nan, Accuracy: 0.505\n",
      "Step: 1180, Loss: nan, Accuracy: 0.505\n",
      "Step: 1190, Loss: nan, Accuracy: 0.505\n",
      "Step: 1200, Loss: nan, Accuracy: 0.505\n",
      "Step: 1210, Loss: nan, Accuracy: 0.505\n",
      "Step: 1220, Loss: nan, Accuracy: 0.505\n",
      "Step: 1230, Loss: nan, Accuracy: 0.505\n",
      "Step: 1240, Loss: nan, Accuracy: 0.505\n",
      "Step: 1250, Loss: nan, Accuracy: 0.505\n",
      "Step: 1260, Loss: nan, Accuracy: 0.505\n",
      "Step: 1270, Loss: nan, Accuracy: 0.505\n",
      "Step: 1280, Loss: nan, Accuracy: 0.505\n",
      "Step: 1290, Loss: nan, Accuracy: 0.505\n",
      "Step: 1300, Loss: nan, Accuracy: 0.505\n",
      "Step: 1310, Loss: nan, Accuracy: 0.505\n",
      "Step: 1320, Loss: nan, Accuracy: 0.505\n",
      "Step: 1330, Loss: nan, Accuracy: 0.505\n",
      "Step: 1340, Loss: nan, Accuracy: 0.505\n",
      "Step: 1350, Loss: nan, Accuracy: 0.505\n",
      "Step: 1360, Loss: nan, Accuracy: 0.505\n",
      "Step: 1370, Loss: nan, Accuracy: 0.505\n",
      "Step: 1380, Loss: nan, Accuracy: 0.505\n",
      "Step: 1390, Loss: nan, Accuracy: 0.505\n",
      "Step: 1400, Loss: nan, Accuracy: 0.505\n",
      "Step: 1410, Loss: nan, Accuracy: 0.505\n",
      "Step: 1420, Loss: nan, Accuracy: 0.505\n",
      "Step: 1430, Loss: nan, Accuracy: 0.505\n",
      "Step: 1440, Loss: nan, Accuracy: 0.505\n",
      "Step: 1450, Loss: nan, Accuracy: 0.505\n",
      "Step: 1460, Loss: nan, Accuracy: 0.505\n",
      "Step: 1470, Loss: nan, Accuracy: 0.505\n",
      "Step: 1480, Loss: nan, Accuracy: 0.505\n",
      "Step: 1490, Loss: nan, Accuracy: 0.505\n",
      "Step: 1499, Loss: nan, Accuracy: 0.505\n",
      "Training complete!\n"
     ]
    }
   ],
   "source": [
    "# For convenience, the train process is invoked here rather than using commands\n",
    "\n",
    "# Default constants\n",
    "DNN_HIDDEN_UNITS_DEFAULT = [20]\n",
    "LEARNING_RATE_DEFAULT = 1e-2\n",
    "MAX_EPOCHS_DEFAULT = 1500 # adjust if you use batch or not\n",
    "EVAL_FREQ_DEFAULT = 10\n",
    "\n",
    "train_mlp_numpy.train(x_train, y_train, x_test, y_test, DNN_HIDDEN_UNITS_DEFAULT, LEARNING_RATE_DEFAULT, MAX_EPOCHS_DEFAULT, EVAL_FREQ_DEFAULT)"
   ]
  }
 ],
 "metadata": {
  "kernelspec": {
   "display_name": "ml",
   "language": "python",
   "name": "python3"
  },
  "language_info": {
   "codemirror_mode": {
    "name": "ipython",
    "version": 3
   },
   "file_extension": ".py",
   "mimetype": "text/x-python",
   "name": "python",
   "nbconvert_exporter": "python",
   "pygments_lexer": "ipython3",
   "version": "3.7.16"
  }
 },
 "nbformat": 4,
 "nbformat_minor": 2
}
