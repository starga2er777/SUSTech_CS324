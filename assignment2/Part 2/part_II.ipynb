{
 "cells": [
  {
   "cell_type": "markdown",
   "metadata": {},
   "source": [
    "# Deep Learning Assignment 2  \n",
    "\n",
    "SID: 12012524  \n",
    "Name: Zhangjie Chen\n",
    "\n",
    "## Part II"
   ]
  },
  {
   "cell_type": "markdown",
   "metadata": {},
   "source": [
    "### Task 1 & 2\n",
    "\n",
    "Load CIFAR-10:"
   ]
  },
  {
   "cell_type": "code",
   "execution_count": 7,
   "metadata": {},
   "outputs": [
    {
     "name": "stdout",
     "output_type": "stream",
     "text": [
      "Files already downloaded and verified\n",
      "Files already downloaded and verified\n",
      "start training...\n"
     ]
    },
    {
     "ename": "KeyboardInterrupt",
     "evalue": "",
     "output_type": "error",
     "traceback": [
      "\u001b[0;31m---------------------------------------------------------------------------\u001b[0m",
      "\u001b[0;31mKeyboardInterrupt\u001b[0m                         Traceback (most recent call last)",
      "Cell \u001b[0;32mIn[7], line 21\u001b[0m\n\u001b[1;32m     18\u001b[0m cifar_test_dataloader \u001b[38;5;241m=\u001b[39m torch\u001b[38;5;241m.\u001b[39mutils\u001b[38;5;241m.\u001b[39mdata\u001b[38;5;241m.\u001b[39mDataLoader(cifar_test, batch_size\u001b[38;5;241m=\u001b[39mbatch_size)\n\u001b[1;32m     20\u001b[0m \u001b[38;5;28;01mimport\u001b[39;00m \u001b[38;5;21;01mcnn_train\u001b[39;00m\n\u001b[0;32m---> 21\u001b[0m \u001b[43mcnn_train\u001b[49m\u001b[38;5;241;43m.\u001b[39;49m\u001b[43mtrain\u001b[49m\u001b[43m(\u001b[49m\u001b[43mcifar_train_dataloader\u001b[49m\u001b[43m,\u001b[49m\u001b[43m \u001b[49m\u001b[43mcifar_test_dataloader\u001b[49m\u001b[43m)\u001b[49m\n",
      "File \u001b[0;32m~/Desktop/Sustech/DL/Assignment/assignment2/Part 2/cnn_train.py:66\u001b[0m, in \u001b[0;36mtrain\u001b[0;34m(train_loader, test_loader, learning_rate, num_epochs, optimizer_option)\u001b[0m\n\u001b[1;32m     55\u001b[0m         model.train()\n\u001b[1;32m     59\u001b[0m     return train_acc, train_loss, test_acc, test_loss\n\u001b[1;32m     65\u001b[0m # def main():\n\u001b[0;32m---> 66\u001b[0m #     \"\"\"\n\u001b[1;32m     67\u001b[0m #     Main function\n\u001b[1;32m     68\u001b[0m #     \"\"\"\n\u001b[1;32m     69\u001b[0m #     train()\n\u001b[1;32m     70\u001b[0m \n\u001b[1;32m     71\u001b[0m # if __name__ == '__main__':\n\u001b[1;32m     72\u001b[0m #   # Command line arguments\n\u001b[1;32m     73\u001b[0m #   parser = argparse.ArgumentParser()\n\u001b[1;32m     74\u001b[0m #   parser.add_argument('--learning_rate', type = float, default = LEARNING_RATE_DEFAULT,\n\u001b[1;32m     75\u001b[0m #                       help='Learning rate')\n\u001b[1;32m     76\u001b[0m #   parser.add_argument('--max_steps', type = int, default = MAX_EPOCHS_DEFAULT,\n\u001b[1;32m     77\u001b[0m #                       help='Number of steps to run trainer.')\n\u001b[1;32m     78\u001b[0m #   parser.add_argument('--batch_size', type = int, default = BATCH_SIZE_DEFAULT,\n\u001b[1;32m     79\u001b[0m #                       help='Batch size to run trainer.')\n\u001b[1;32m     80\u001b[0m #   parser.add_argument('--eval_freq', type=int, default=EVAL_FREQ_DEFAULT,\n\u001b[1;32m     81\u001b[0m #                         help='Frequency of evaluation on the test set')\n\u001b[1;32m     82\u001b[0m #   parser.add_argument('--data_dir', type = str, default = DATA_DIR_DEFAULT,\n\u001b[1;32m     83\u001b[0m #                       help='Directory for storing input data')\n\u001b[1;32m     84\u001b[0m #   FLAGS, unparsed = parser.parse_known_args()\n\u001b[1;32m     85\u001b[0m \n\u001b[1;32m     86\u001b[0m #   main()\n",
      "File \u001b[0;32m~/Apps/conda/envs/ml/lib/python3.9/site-packages/torch/_tensor.py:522\u001b[0m, in \u001b[0;36mTensor.backward\u001b[0;34m(self, gradient, retain_graph, create_graph, inputs)\u001b[0m\n\u001b[1;32m    512\u001b[0m \u001b[38;5;28;01mif\u001b[39;00m has_torch_function_unary(\u001b[38;5;28mself\u001b[39m):\n\u001b[1;32m    513\u001b[0m     \u001b[38;5;28;01mreturn\u001b[39;00m handle_torch_function(\n\u001b[1;32m    514\u001b[0m         Tensor\u001b[38;5;241m.\u001b[39mbackward,\n\u001b[1;32m    515\u001b[0m         (\u001b[38;5;28mself\u001b[39m,),\n\u001b[0;32m   (...)\u001b[0m\n\u001b[1;32m    520\u001b[0m         inputs\u001b[38;5;241m=\u001b[39minputs,\n\u001b[1;32m    521\u001b[0m     )\n\u001b[0;32m--> 522\u001b[0m \u001b[43mtorch\u001b[49m\u001b[38;5;241;43m.\u001b[39;49m\u001b[43mautograd\u001b[49m\u001b[38;5;241;43m.\u001b[39;49m\u001b[43mbackward\u001b[49m\u001b[43m(\u001b[49m\n\u001b[1;32m    523\u001b[0m \u001b[43m    \u001b[49m\u001b[38;5;28;43mself\u001b[39;49m\u001b[43m,\u001b[49m\u001b[43m \u001b[49m\u001b[43mgradient\u001b[49m\u001b[43m,\u001b[49m\u001b[43m \u001b[49m\u001b[43mretain_graph\u001b[49m\u001b[43m,\u001b[49m\u001b[43m \u001b[49m\u001b[43mcreate_graph\u001b[49m\u001b[43m,\u001b[49m\u001b[43m \u001b[49m\u001b[43minputs\u001b[49m\u001b[38;5;241;43m=\u001b[39;49m\u001b[43minputs\u001b[49m\n\u001b[1;32m    524\u001b[0m \u001b[43m\u001b[49m\u001b[43m)\u001b[49m\n",
      "File \u001b[0;32m~/Apps/conda/envs/ml/lib/python3.9/site-packages/torch/autograd/__init__.py:266\u001b[0m, in \u001b[0;36mbackward\u001b[0;34m(tensors, grad_tensors, retain_graph, create_graph, grad_variables, inputs)\u001b[0m\n\u001b[1;32m    261\u001b[0m     retain_graph \u001b[38;5;241m=\u001b[39m create_graph\n\u001b[1;32m    263\u001b[0m \u001b[38;5;66;03m# The reason we repeat the same comment below is that\u001b[39;00m\n\u001b[1;32m    264\u001b[0m \u001b[38;5;66;03m# some Python versions print out the first line of a multi-line function\u001b[39;00m\n\u001b[1;32m    265\u001b[0m \u001b[38;5;66;03m# calls in the traceback and some print out the last line\u001b[39;00m\n\u001b[0;32m--> 266\u001b[0m \u001b[43mVariable\u001b[49m\u001b[38;5;241;43m.\u001b[39;49m\u001b[43m_execution_engine\u001b[49m\u001b[38;5;241;43m.\u001b[39;49m\u001b[43mrun_backward\u001b[49m\u001b[43m(\u001b[49m\u001b[43m  \u001b[49m\u001b[38;5;66;43;03m# Calls into the C++ engine to run the backward pass\u001b[39;49;00m\n\u001b[1;32m    267\u001b[0m \u001b[43m    \u001b[49m\u001b[43mtensors\u001b[49m\u001b[43m,\u001b[49m\n\u001b[1;32m    268\u001b[0m \u001b[43m    \u001b[49m\u001b[43mgrad_tensors_\u001b[49m\u001b[43m,\u001b[49m\n\u001b[1;32m    269\u001b[0m \u001b[43m    \u001b[49m\u001b[43mretain_graph\u001b[49m\u001b[43m,\u001b[49m\n\u001b[1;32m    270\u001b[0m \u001b[43m    \u001b[49m\u001b[43mcreate_graph\u001b[49m\u001b[43m,\u001b[49m\n\u001b[1;32m    271\u001b[0m \u001b[43m    \u001b[49m\u001b[43minputs\u001b[49m\u001b[43m,\u001b[49m\n\u001b[1;32m    272\u001b[0m \u001b[43m    \u001b[49m\u001b[43mallow_unreachable\u001b[49m\u001b[38;5;241;43m=\u001b[39;49m\u001b[38;5;28;43;01mTrue\u001b[39;49;00m\u001b[43m,\u001b[49m\n\u001b[1;32m    273\u001b[0m \u001b[43m    \u001b[49m\u001b[43maccumulate_grad\u001b[49m\u001b[38;5;241;43m=\u001b[39;49m\u001b[38;5;28;43;01mTrue\u001b[39;49;00m\u001b[43m,\u001b[49m\n\u001b[1;32m    274\u001b[0m \u001b[43m\u001b[49m\u001b[43m)\u001b[49m\n",
      "\u001b[0;31mKeyboardInterrupt\u001b[0m: "
     ]
    }
   ],
   "source": [
    "import torch\n",
    "import torchvision.transforms as transforms\n",
    "import torchvision\n",
    "\n",
    "transform = transforms.Compose([\n",
    "    transforms.ToTensor(),\n",
    "    transforms.Normalize((0.5, 0.5, 0.5), (0.5, 0.5, 0.5))\n",
    "])\n",
    "\n",
    "# Define train parameters\n",
    "batch_size = 32\n",
    "\n",
    "# Load dataset\n",
    "cifar_train = torchvision.datasets.CIFAR10('../cifar10/', download=True, train=True, transform=transform)\n",
    "cifar_test = torchvision.datasets.CIFAR10('../cifar10/', download=True, train=False, transform=transform)\n",
    "\n",
    "cifar_train_dataloader = torch.utils.data.DataLoader(cifar_train, batch_size=batch_size)\n",
    "cifar_test_dataloader = torch.utils.data.DataLoader(cifar_test, batch_size=batch_size)\n",
    "\n",
    "import cnn_train\n",
    "cnn_train.train(cifar_train_dataloader, cifar_test_dataloader)\n"
   ]
  }
 ],
 "metadata": {
  "kernelspec": {
   "display_name": "ml",
   "language": "python",
   "name": "python3"
  },
  "language_info": {
   "codemirror_mode": {
    "name": "ipython",
    "version": 3
   },
   "file_extension": ".py",
   "mimetype": "text/x-python",
   "name": "python",
   "nbconvert_exporter": "python",
   "pygments_lexer": "ipython3",
   "version": "3.9.18"
  }
 },
 "nbformat": 4,
 "nbformat_minor": 2
}
